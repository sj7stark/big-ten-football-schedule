{
 "cells": [
  {
   "cell_type": "markdown",
   "id": "67a00934-9c8a-433c-8c16-6de85febb213",
   "metadata": {},
   "source": [
    "# Big Ten (B1G) Football Schedule Model"
   ]
  },
  {
   "cell_type": "markdown",
   "id": "e828f994-8e05-4c66-9ac7-b1ad75216e02",
   "metadata": {},
   "source": [
    "This notebook contains a mixed integer programming model (MIP) for creating a football schedule for the B1G Conference."
   ]
  },
  {
   "cell_type": "markdown",
   "id": "39c66078-8348-4044-911a-b89a183d8e68",
   "metadata": {},
   "source": [
    "# Information"
   ]
  },
  {
   "cell_type": "markdown",
   "id": "64986ce4-bc93-4084-b9fa-87e57c6cf570",
   "metadata": {},
   "source": [
    "* The B1G Conference has two 7 team divisions\n",
    "    * West Division\n",
    "    * East Division\n",
    "* There are 13 weeks in the season. Each team has \n",
    "    * A bye week\n",
    "    * 3 Non-conference games\n",
    "    * 9 Conference games\n",
    "        * 6 In-division Games (East team plays East team, West team plays West team)\n",
    "        * 3 Crossover games (a West team playing an East team)\n",
    "    * 4 or 5 home conference games\n",
    "    * 3 home in-division games"
   ]
  },
  {
   "cell_type": "markdown",
   "id": "a9dd8f04-a5ab-412d-b2b8-3c340ee6f4bb",
   "metadata": {},
   "source": [
    "# Import Packages"
   ]
  },
  {
   "cell_type": "code",
   "execution_count": 1,
   "id": "7e940dbe-6b7d-4b4f-9077-6a31acaaf05d",
   "metadata": {},
   "outputs": [],
   "source": [
    "import pulp\n",
    "import pandas as pd"
   ]
  },
  {
   "cell_type": "markdown",
   "id": "7ba0e361-fa11-49f3-9cdb-422b0933bb0f",
   "metadata": {},
   "source": [
    "# Read In the Data"
   ]
  },
  {
   "cell_type": "code",
   "execution_count": 2,
   "id": "e55fa464-07ae-497d-9786-1cf7c1945747",
   "metadata": {},
   "outputs": [],
   "source": [
    "team_data = pd.read_csv(r\"data\\teams.csv\")"
   ]
  },
  {
   "cell_type": "code",
   "execution_count": 3,
   "id": "9ab5ecd2-9947-4cdb-b0ab-87485313babc",
   "metadata": {},
   "outputs": [],
   "source": [
    "# remove spaces in team name\n",
    "team_data.Team = [x.replace(\" \",\"\") for x in team_data.Team]"
   ]
  },
  {
   "cell_type": "markdown",
   "id": "4a3a3011-b844-413b-8669-c93baa5d59a0",
   "metadata": {},
   "source": [
    "# Sets"
   ]
  },
  {
   "cell_type": "markdown",
   "id": "1189d750-ae48-4444-bc5f-309ac7f21538",
   "metadata": {},
   "source": [
    "* I: set of all B1G teams\n",
    "* W: set of teams in the West Division (a subset of I)\n",
    "* E: set of teams in the East Division (a subset of I)\n",
    "* T: set of weeks"
   ]
  },
  {
   "cell_type": "code",
   "execution_count": 4,
   "id": "1dcf0643-b77d-4a6a-9c74-359c5bb58be6",
   "metadata": {},
   "outputs": [],
   "source": [
    "# teams\n",
    "I = team_data.Team.tolist()\n",
    "W = team_data.loc[team_data.Division == \"West\",['Team']].Team.tolist()\n",
    "E = team_data.loc[team_data.Division == \"East\",['Team']].Team.tolist()\n",
    "\n",
    "# weeks\n",
    "T = range(1,14)"
   ]
  },
  {
   "cell_type": "markdown",
   "id": "f1904718-b298-4e52-b930-62e9d2302169",
   "metadata": {},
   "source": [
    "# Decision Variables"
   ]
  },
  {
   "cell_type": "markdown",
   "id": "5dea49a7-21dd-4c9b-bc53-513e3fd5e915",
   "metadata": {},
   "source": [
    "* $ x_{hat}$: A binary variable that equals 1 if team $h \\in I$ is home against team $a \\in I, a \\neq h$, during week $ t \\in T$ and 0 otherwise\n",
    "* $ y_{it}$: A binary variable that equals 1 if team $i \\in I$ plays a non-conference game during week $ t \\in T$ and 0 otherwise\n",
    "* $ z_{it}$: A binary variable that equals 1 if team $i \\in I$ has a bye in week $ t \\in T$ and 0 otherwise"
   ]
  },
  {
   "cell_type": "code",
   "execution_count": 5,
   "id": "cc818d47-70f1-489c-a10f-0f10f91e3af3",
   "metadata": {},
   "outputs": [],
   "source": [
    "x = pulp.LpVariable.dicts('x',(I,I,T),cat=pulp.LpBinary)\n",
    "y = pulp.LpVariable.dicts('y',(I,T),cat=pulp.LpBinary)\n",
    "z = pulp.LpVariable.dicts('z',(I,T),cat=pulp.LpBinary) "
   ]
  },
  {
   "cell_type": "markdown",
   "id": "d90214ef-b8f9-4447-8c32-35a9978d497c",
   "metadata": {},
   "source": [
    "The previous cell created extra decision variables that we don't want. These are $ x_{hat}$ variables in which $h=a$. Because a team cannot play against itself, we need to remove them."
   ]
  },
  {
   "cell_type": "code",
   "execution_count": 6,
   "id": "5c042de7-36a4-45f6-affb-69ef8321f898",
   "metadata": {},
   "outputs": [],
   "source": [
    "for t in T:\n",
    "    \n",
    "    for h in I:\n",
    "        \n",
    "        for a in I:\n",
    "            \n",
    "            if h == a:\n",
    "                \n",
    "                del x[h][a][t]"
   ]
  },
  {
   "cell_type": "markdown",
   "id": "bd879715-5b21-4022-a5da-c333fe32b14b",
   "metadata": {},
   "source": [
    "# Create the Problem in PuLP"
   ]
  },
  {
   "cell_type": "code",
   "execution_count": 7,
   "id": "4ea39db0-8006-44cb-8d33-2a382e483c22",
   "metadata": {},
   "outputs": [],
   "source": [
    "schedule = pulp.LpProblem(\"Schedule\",pulp.LpMinimize)"
   ]
  },
  {
   "cell_type": "markdown",
   "id": "98c16ab9-8214-44e2-9e2d-7acb830b858b",
   "metadata": {},
   "source": [
    "# Create the Objective Function"
   ]
  },
  {
   "cell_type": "markdown",
   "id": "f560db3e-023c-4803-a4b8-3f16f60a18ad",
   "metadata": {},
   "source": [
    "We are only concerned about creating a schedule that satisfies all of the constraints. We are not optimizing anything. Thus, we can simply set the objective function to 0."
   ]
  },
  {
   "cell_type": "code",
   "execution_count": 8,
   "id": "1d1a2286-7ef6-4c11-9f28-105ff8eacc6a",
   "metadata": {},
   "outputs": [],
   "source": [
    "schedule += 0"
   ]
  },
  {
   "cell_type": "markdown",
   "id": "5c744913-5f78-4d7f-8509-da0ed2366997",
   "metadata": {},
   "source": [
    "# Constraints"
   ]
  },
  {
   "cell_type": "markdown",
   "id": "05c332d3-927b-4798-9ac6-33a61ed9e172",
   "metadata": {},
   "source": [
    "## Each team plays exactly 3 In-Division home games:"
   ]
  },
  {
   "cell_type": "markdown",
   "id": "51e708d7-6805-4479-8ecd-03479c93427f",
   "metadata": {
    "tags": []
   },
   "source": [
    "### West"
   ]
  },
  {
   "cell_type": "markdown",
   "id": "a7bbe10d-abbb-4688-8edc-faf0e1885a14",
   "metadata": {},
   "source": [
    "$$ \\sum_{t \\in T} \\sum_{a \\in W,a \\neq h} x_{hat} = 3, \\qquad \\forall h \\in W $$"
   ]
  },
  {
   "cell_type": "code",
   "execution_count": 9,
   "id": "112fc463-5840-41f1-9a35-e19c945dff5a",
   "metadata": {},
   "outputs": [],
   "source": [
    "for h in W:\n",
    "    schedule += pulp.lpSum(x[h][a][t] for t in T for a in W if a != h) == 3"
   ]
  },
  {
   "cell_type": "markdown",
   "id": "7a70412e-82e3-4111-bcef-abdfc14da74f",
   "metadata": {
    "tags": []
   },
   "source": [
    "### East"
   ]
  },
  {
   "cell_type": "markdown",
   "id": "1506e4e5-b011-4100-8bb8-4faf3229761f",
   "metadata": {},
   "source": [
    "$$ \\sum_{t \\in T} \\sum_{a \\in E,a \\neq h} x_{hat} = 3, \\qquad \\forall h \\in E $$"
   ]
  },
  {
   "cell_type": "code",
   "execution_count": 10,
   "id": "4501222d-f472-4169-8561-3675d141369e",
   "metadata": {},
   "outputs": [],
   "source": [
    "for h in E:\n",
    "    schedule += pulp.lpSum(x[h][a][t] for t in T for a in E if a != h) == 3"
   ]
  },
  {
   "cell_type": "markdown",
   "id": "94ecb963-f9ac-40cb-89ff-7d7fd824415b",
   "metadata": {},
   "source": [
    "## Each team plays exactly 3 In-Division road games:"
   ]
  },
  {
   "cell_type": "markdown",
   "id": "188d63f3-8315-476e-a898-4dc21dd7c587",
   "metadata": {
    "tags": []
   },
   "source": [
    "### West"
   ]
  },
  {
   "cell_type": "markdown",
   "id": "af120cb5-0337-4056-8810-9e5c7f5f9e41",
   "metadata": {},
   "source": [
    "$$ \\sum_{t \\in T} \\sum_{h \\in W,h \\neq a} x_{hat} = 3, \\qquad \\forall a \\in W $$"
   ]
  },
  {
   "cell_type": "code",
   "execution_count": 11,
   "id": "d9e4246d-9993-4b92-9896-ea8d192c6c03",
   "metadata": {},
   "outputs": [],
   "source": [
    "for a in W:\n",
    "    schedule += pulp.lpSum(x[h][a][t] for t in T for h in W if h != a) == 3"
   ]
  },
  {
   "cell_type": "markdown",
   "id": "0b2ba606-e38f-45c2-a9ff-998281ec6ba3",
   "metadata": {
    "tags": []
   },
   "source": [
    "### East"
   ]
  },
  {
   "cell_type": "markdown",
   "id": "c4ee8bb4-d8be-4c00-8388-8ec42166641c",
   "metadata": {},
   "source": [
    "$$ \\sum_{t \\in T} \\sum_{h \\in E,h \\neq a} x_{hat} = 3, \\qquad \\forall a \\in E $$"
   ]
  },
  {
   "cell_type": "code",
   "execution_count": 12,
   "id": "96b966f4-3987-4009-af05-ea2d29fc9c5a",
   "metadata": {},
   "outputs": [],
   "source": [
    "for a in E:\n",
    "    schedule += pulp.lpSum(x[h][a][t] for t in T for h in E if h != a) == 3"
   ]
  },
  {
   "cell_type": "markdown",
   "id": "a9ccdac9-49c5-4e7f-b655-c69033792c04",
   "metadata": {},
   "source": [
    "## Each team has either 4 or 5 conference home games"
   ]
  },
  {
   "cell_type": "markdown",
   "id": "dff0eda9-d20f-4827-91d0-d29b0a80ab6c",
   "metadata": {},
   "source": [
    "$$4 \\leq \\sum_{t \\in T} \\sum_{a \\in I,h \\neq i} x_{hat} \\leq 5, \\qquad \\forall i \\in I $$"
   ]
  },
  {
   "cell_type": "code",
   "execution_count": 13,
   "id": "bd45aabc-2ac4-4522-9448-3e947236e01a",
   "metadata": {},
   "outputs": [],
   "source": [
    "for h in I:\n",
    "    schedule += pulp.lpSum(x[h][a][t] for t in T for a in I if a != h) >= 4\n",
    "    schedule += pulp.lpSum(x[h][a][t] for t in T for a in I if a != h) <= 5"
   ]
  },
  {
   "cell_type": "markdown",
   "id": "ac2eaf72-a58f-47c7-93fc-42becf958198",
   "metadata": {},
   "source": [
    "## Each team has 3 crossover games"
   ]
  },
  {
   "cell_type": "markdown",
   "id": "15abfcea-13e8-4400-9b39-f741da50852e",
   "metadata": {},
   "source": [
    "### West"
   ]
  },
  {
   "cell_type": "markdown",
   "id": "178e6317-ef76-4b1d-ae46-551508658158",
   "metadata": {},
   "source": [
    "$$ \\sum_{t \\in T} \\sum_{a \\in E} x_{iat} + \\sum_{t \\in T} \\sum_{h \\in E} x_{hit} = 3, \\qquad \\forall i \\in W $$"
   ]
  },
  {
   "cell_type": "code",
   "execution_count": 14,
   "id": "be3785b1-bc18-4574-a4cb-6f3fdcb56bfd",
   "metadata": {},
   "outputs": [],
   "source": [
    "for i in W:\n",
    "    schedule += pulp.lpSum(x[i][a][t] for t in T for a in E) + pulp.lpSum(x[h][i][t] for t in T for h in E) == 3"
   ]
  },
  {
   "cell_type": "markdown",
   "id": "4e09b616-3f8d-40c1-9862-a1cb98d7fa94",
   "metadata": {},
   "source": [
    "### East"
   ]
  },
  {
   "cell_type": "markdown",
   "id": "611f89d4-5d29-44da-923e-ea2e8b1340e9",
   "metadata": {},
   "source": [
    "$$ \\sum_{t \\in T} \\sum_{a \\in W} x_{iat} + \\sum_{t \\in T} \\sum_{h \\in W} x_{hit} = 3, \\qquad \\forall i \\in E $$"
   ]
  },
  {
   "cell_type": "code",
   "execution_count": 15,
   "id": "7c914f07-794e-4a71-a439-375468f0967e",
   "metadata": {},
   "outputs": [],
   "source": [
    "for i in E:\n",
    "    schedule += pulp.lpSum(x[i][a][t] for t in T for a in W) + pulp.lpSum(x[h][i][t] for t in T for h in W) == 3"
   ]
  },
  {
   "cell_type": "markdown",
   "id": "e5dbd260-529c-48f8-9c7c-b9e4c725820f",
   "metadata": {},
   "source": [
    "## Non-conference Schedule"
   ]
  },
  {
   "cell_type": "markdown",
   "id": "87058923-be8d-4c17-8543-6142f5367091",
   "metadata": {},
   "source": [
    "$$ \\sum_{t \\in T}y_{it} = 3, \\qquad \\forall i \\in I $$"
   ]
  },
  {
   "cell_type": "code",
   "execution_count": 16,
   "id": "a22eb748-4456-483a-8f5d-3fc229bfca7d",
   "metadata": {},
   "outputs": [],
   "source": [
    "for i in I:\n",
    "    schedule += pulp.lpSum(y[i][t] for t in T) == 3"
   ]
  },
  {
   "cell_type": "markdown",
   "id": "cca2e0b9-f8dc-4170-9990-62ae70071546",
   "metadata": {},
   "source": [
    "## Bye Week for each team"
   ]
  },
  {
   "cell_type": "markdown",
   "id": "d6ac25fc-0466-42ee-8b5f-46dcb3c45889",
   "metadata": {},
   "source": [
    "$$ \\sum_{t = 3}^9 z_{it} = 1, \\qquad \\forall i \\in I $$"
   ]
  },
  {
   "cell_type": "code",
   "execution_count": 17,
   "id": "88682eb3-3e90-479e-84b2-c21472f0c706",
   "metadata": {},
   "outputs": [],
   "source": [
    "for i in I:\n",
    "    schedule += pulp.lpSum(z[i][t] for t in T[3:10]) == 1 # bye week is between weeks 3 and 9"
   ]
  },
  {
   "cell_type": "markdown",
   "id": "fc61d7ea-afe0-405a-9f1a-e944758d49b8",
   "metadata": {},
   "source": [
    "## Each team has a game (or bye) for each week"
   ]
  },
  {
   "cell_type": "markdown",
   "id": "588b9ff1-5471-4f75-87af-e64623cc74d3",
   "metadata": {},
   "source": [
    "$$ \\sum_{a \\in I}x_{iat} + \\sum_{h \\in I}x_{hit} + y_{it} + z_{it} = 1, \\qquad \\forall i \\in I, t\\in T $$"
   ]
  },
  {
   "cell_type": "code",
   "execution_count": 18,
   "id": "ee3aa34f-2f9a-4afb-81f7-5987652bacc2",
   "metadata": {},
   "outputs": [],
   "source": [
    "for t in T:\n",
    "    for i in I:\n",
    "        schedule += pulp.lpSum(x[i][a][t] for a in I if a != i) + pulp.lpSum(x[h][i][t] for h in I if h != i) +  y[i][t] + z[i][t] == 1"
   ]
  },
  {
   "cell_type": "markdown",
   "id": "fe2eba46-4f2e-439c-8bfe-d4e46e2c0087",
   "metadata": {},
   "source": [
    "## Teams can only face off against each other at most once"
   ]
  },
  {
   "cell_type": "markdown",
   "id": "dd7203f2-d52a-4510-a0d9-8ff4e941af2d",
   "metadata": {},
   "source": [
    "$$ \\sum_{t \\in T}x_{ijt} + \\sum_{t \\in T}x_{jit} \\leq 1, \\qquad \\forall i \\in I, j \\in I, j \\neq i$$"
   ]
  },
  {
   "cell_type": "code",
   "execution_count": 19,
   "id": "791e942e-4696-45df-a696-007aaa16e4e3",
   "metadata": {},
   "outputs": [],
   "source": [
    "for i in I:\n",
    "    for j in I:\n",
    "        if i != j:\n",
    "            schedule += pulp.lpSum(x[i][j][t] for t in T) + pulp.lpSum(x[j][i][t] for t in T) <= 1 "
   ]
  },
  {
   "cell_type": "markdown",
   "id": "d7858fb9-feee-4723-babb-73dd316e9110",
   "metadata": {},
   "source": [
    "# Solve the Problem"
   ]
  },
  {
   "cell_type": "code",
   "execution_count": 20,
   "id": "134536f9-e2cf-48b2-a19b-d76bd00fb0be",
   "metadata": {},
   "outputs": [
    {
     "data": {
      "text/plain": [
       "1"
      ]
     },
     "execution_count": 20,
     "metadata": {},
     "output_type": "execute_result"
    }
   ],
   "source": [
    "schedule.solve()"
   ]
  },
  {
   "cell_type": "code",
   "execution_count": 21,
   "id": "901a57c0-e8da-49b9-90c9-f2fe0b8fcae9",
   "metadata": {
    "tags": []
   },
   "outputs": [
    {
     "name": "stdout",
     "output_type": "stream",
     "text": [
      "Week: 1\n",
      "B1G Match: Indiana at OhioState\n",
      "B1G Match: Michigan at PennState\n",
      "B1G Match: Northwestern at Iowa\n",
      "B1G Match: Minnesota at Purdue\n",
      "B1G Match: MichiganState at Wisconsin\n",
      "Non-Conf Game: Maryland\n",
      "Non-Conf Game: Rutgers\n",
      "Non-Conf Game: Illinois\n",
      "Non-Conf Game: Nebraska\n",
      "\n",
      "Week: 2\n",
      "B1G Match: Nebraska at PennState\n",
      "B1G Match: MichiganState at Indiana\n",
      "B1G Match: Rutgers at Purdue\n",
      "B1G Match: Maryland at Wisconsin\n",
      "B1G Match: OhioState at Northwestern\n",
      "Non-Conf Game: Michigan\n",
      "Non-Conf Game: Iowa\n",
      "Non-Conf Game: Minnesota\n",
      "Non-Conf Game: Illinois\n",
      "\n",
      "Week: 3\n",
      "B1G Match: Minnesota at MichiganState\n",
      "B1G Match: Northwestern at Maryland\n",
      "B1G Match: Michigan at Rutgers\n",
      "B1G Match: PennState at Iowa\n",
      "B1G Match: Purdue at Illinois\n",
      "Non-Conf Game: OhioState\n",
      "Non-Conf Game: Indiana\n",
      "Non-Conf Game: Wisconsin\n",
      "Non-Conf Game: Nebraska\n",
      "\n",
      "Week: 4\n",
      "B1G Match: Indiana at Michigan\n",
      "B1G Match: PennState at Rutgers\n",
      "B1G Match: Iowa at Illinois\n",
      "B1G Match: Maryland at Nebraska\n",
      "Non-Conf Game: Minnesota\n",
      "Non-Conf Game: Northwestern\n",
      "Bye for MichiganState\n",
      "Bye for OhioState\n",
      "Bye for Purdue\n",
      "Bye for Wisconsin\n",
      "\n",
      "Week: 5\n",
      "B1G Match: Rutgers at OhioState\n",
      "B1G Match: Maryland at Michigan\n",
      "B1G Match: Wisconsin at PennState\n",
      "B1G Match: MichiganState at Iowa\n",
      "B1G Match: Northwestern at Minnesota\n",
      "B1G Match: Nebraska at Illinois\n",
      "Non-Conf Game: Purdue\n",
      "Bye for Indiana\n",
      "\n",
      "Week: 6\n",
      "B1G Match: OhioState at MichiganState\n",
      "B1G Match: Purdue at Iowa\n",
      "B1G Match: Indiana at Minnesota\n",
      "B1G Match: Michigan at Illinois\n",
      "Non-Conf Game: Maryland\n",
      "Non-Conf Game: Wisconsin\n",
      "Non-Conf Game: Northwestern\n",
      "Non-Conf Game: Nebraska\n",
      "Bye for PennState\n",
      "Bye for Rutgers\n",
      "\n",
      "Week: 7\n",
      "B1G Match: Michigan at OhioState\n",
      "B1G Match: Maryland at Rutgers\n",
      "B1G Match: Illinois at Wisconsin\n",
      "B1G Match: Purdue at Northwestern\n",
      "B1G Match: Iowa at Nebraska\n",
      "Non-Conf Game: MichiganState\n",
      "Non-Conf Game: PennState\n",
      "Non-Conf Game: Indiana\n",
      "Bye for Minnesota\n",
      "\n",
      "Week: 8\n",
      "B1G Match: MichiganState at Maryland\n",
      "B1G Match: Iowa at Indiana\n",
      "B1G Match: Nebraska at Purdue\n",
      "B1G Match: Wisconsin at Northwestern\n",
      "Non-Conf Game: OhioState\n",
      "Non-Conf Game: Michigan\n",
      "Non-Conf Game: PennState\n",
      "Non-Conf Game: Rutgers\n",
      "Non-Conf Game: Minnesota\n",
      "Bye for Illinois\n",
      "\n",
      "Week: 9\n",
      "B1G Match: OhioState at PennState\n",
      "B1G Match: Indiana at Maryland\n",
      "B1G Match: Illinois at Minnesota\n",
      "B1G Match: Michigan at Purdue\n",
      "B1G Match: Nebraska at Wisconsin\n",
      "Non-Conf Game: MichiganState\n",
      "Non-Conf Game: Rutgers\n",
      "Non-Conf Game: Iowa\n",
      "Bye for Northwestern\n",
      "\n",
      "Week: 10\n",
      "B1G Match: PennState at MichiganState\n",
      "B1G Match: Illinois at Indiana\n",
      "B1G Match: OhioState at Minnesota\n",
      "B1G Match: Rutgers at Northwestern\n",
      "Non-Conf Game: Purdue\n",
      "Non-Conf Game: Wisconsin\n",
      "Bye for Michigan\n",
      "Bye for Maryland\n",
      "Bye for Iowa\n",
      "Bye for Nebraska\n",
      "\n",
      "Week: 11\n",
      "B1G Match: Nebraska at Michigan\n",
      "B1G Match: OhioState at Maryland\n",
      "B1G Match: Illinois at Rutgers\n",
      "B1G Match: Iowa at Minnesota\n",
      "B1G Match: Wisconsin at Purdue\n",
      "Non-Conf Game: MichiganState\n",
      "Non-Conf Game: PennState\n",
      "Non-Conf Game: Indiana\n",
      "Non-Conf Game: Northwestern\n",
      "\n",
      "Week: 12\n",
      "B1G Match: Purdue at OhioState\n",
      "B1G Match: MichiganState at Michigan\n",
      "B1G Match: Maryland at PennState\n",
      "B1G Match: Rutgers at Indiana\n",
      "B1G Match: Wisconsin at Iowa\n",
      "B1G Match: Illinois at Northwestern\n",
      "B1G Match: Minnesota at Nebraska\n",
      "\n",
      "Week: 13\n",
      "B1G Match: Rutgers at MichiganState\n",
      "B1G Match: PennState at Indiana\n",
      "B1G Match: Minnesota at Wisconsin\n",
      "B1G Match: Northwestern at Nebraska\n",
      "Non-Conf Game: OhioState\n",
      "Non-Conf Game: Michigan\n",
      "Non-Conf Game: Maryland\n",
      "Non-Conf Game: Iowa\n",
      "Non-Conf Game: Purdue\n",
      "Non-Conf Game: Illinois\n",
      "\n"
     ]
    }
   ],
   "source": [
    "for t in T:\n",
    "    print(f\"Week: {t}\")\n",
    "    for h in I:\n",
    "        for a in I:\n",
    "            if a != h:\n",
    "                if x[h][a][t].value() == 1.0:\n",
    "                    home, away, week = x[h][a][t].getName().split('_')[1:]\n",
    "                    print(f'B1G Match: {away} at {home}')\n",
    "                    \n",
    "    for i in I:\n",
    "        if y[i][t].value() == 1.0:\n",
    "            b1g_team, week = y[i][t].getName().split('_')[1:]\n",
    "            print(f'Non-Conf Game: {b1g_team}')\n",
    "    \n",
    "    for i in I:\n",
    "        if z[i][t].value() == 1.0:\n",
    "            print(f\"Bye for {i}\")\n",
    "            \n",
    "    print()  # newline"
   ]
  },
  {
   "cell_type": "markdown",
   "id": "dd5587ca-b5c5-4668-80f3-6c843aaf3e2b",
   "metadata": {},
   "source": [
    "# Next Steps"
   ]
  },
  {
   "cell_type": "markdown",
   "id": "32ee4a81-12ef-4064-b290-1070e4bf7c35",
   "metadata": {},
   "source": [
    "* Create a nice output file for the complete schedule\n",
    "* Create a dashboard\n",
    "* Make program that allows for additional constraints\n",
    "    * Michigan plays against Ohio State in week 13"
   ]
  },
  {
   "cell_type": "code",
   "execution_count": null,
   "id": "40b2341e-ead5-46a8-a683-797bf2b22f76",
   "metadata": {},
   "outputs": [],
   "source": []
  }
 ],
 "metadata": {
  "kernelspec": {
   "display_name": "Python [conda env:pulp_env] *",
   "language": "python",
   "name": "conda-env-pulp_env-py"
  },
  "language_info": {
   "codemirror_mode": {
    "name": "ipython",
    "version": 3
   },
   "file_extension": ".py",
   "mimetype": "text/x-python",
   "name": "python",
   "nbconvert_exporter": "python",
   "pygments_lexer": "ipython3",
   "version": "3.8.12"
  }
 },
 "nbformat": 4,
 "nbformat_minor": 5
}
